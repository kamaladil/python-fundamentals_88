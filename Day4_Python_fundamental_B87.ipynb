{
 "cells": [
  {
   "cell_type": "code",
   "execution_count": 2,
   "id": "917be6e7",
   "metadata": {},
   "outputs": [],
   "source": [
    "#Day4_Python_fundamental_B87\n"
   ]
  },
  {
   "cell_type": "code",
   "execution_count": 7,
   "id": "17bdccb4",
   "metadata": {},
   "outputs": [
    {
     "data": {
      "text/plain": [
       "list"
      ]
     },
     "execution_count": 7,
     "metadata": {},
     "output_type": "execute_result"
    }
   ],
   "source": [
    "type(students)"
   ]
  },
  {
   "cell_type": "code",
   "execution_count": 8,
   "id": "cfea5c5a",
   "metadata": {},
   "outputs": [
    {
     "name": "stdout",
     "output_type": "stream",
     "text": [
      "kamal\n"
     ]
    }
   ],
   "source": [
    "print(students[1])"
   ]
  },
  {
   "cell_type": "code",
   "execution_count": 10,
   "id": "30ab1392",
   "metadata": {},
   "outputs": [
    {
     "name": "stdout",
     "output_type": "stream",
     "text": [
      "Kamal\n"
     ]
    }
   ],
   "source": [
    "print(students[1].title())"
   ]
  },
  {
   "cell_type": "code",
   "execution_count": 11,
   "id": "a9b677ad",
   "metadata": {},
   "outputs": [],
   "source": [
    "students=['adil','kamal','khan']"
   ]
  },
  {
   "cell_type": "code",
   "execution_count": 12,
   "id": "50ad1622",
   "metadata": {},
   "outputs": [],
   "source": [
    "#i want to add arshad name to above list as new element"
   ]
  },
  {
   "cell_type": "code",
   "execution_count": 13,
   "id": "c7a67c72",
   "metadata": {},
   "outputs": [],
   "source": [
    "students.append('arshad')"
   ]
  },
  {
   "cell_type": "code",
   "execution_count": 14,
   "id": "352168cf",
   "metadata": {},
   "outputs": [
    {
     "name": "stdout",
     "output_type": "stream",
     "text": [
      "['adil', 'kamal', 'khan', 'arshad']\n"
     ]
    }
   ],
   "source": [
    "print(students)"
   ]
  },
  {
   "cell_type": "code",
   "execution_count": 15,
   "id": "da022add",
   "metadata": {},
   "outputs": [],
   "source": [
    "#req; i want to add najia name at 2nd index"
   ]
  },
  {
   "cell_type": "code",
   "execution_count": 18,
   "id": "9116b158",
   "metadata": {},
   "outputs": [
    {
     "name": "stdout",
     "output_type": "stream",
     "text": [
      "['adil', 'kamal', 'najia', 'khan', 'arshad']\n"
     ]
    }
   ],
   "source": [
    "print(students)"
   ]
  },
  {
   "cell_type": "code",
   "execution_count": 20,
   "id": "ac169a51",
   "metadata": {},
   "outputs": [
    {
     "name": "stdout",
     "output_type": "stream",
     "text": [
      "['adil', 'arshad', 'najia', 'khan', 'arshad']\n"
     ]
    }
   ],
   "source": [
    "print(students)"
   ]
  },
  {
   "cell_type": "code",
   "execution_count": null,
   "id": "28cd69e5",
   "metadata": {},
   "outputs": [],
   "source": [
    "del students[2]"
   ]
  },
  {
   "cell_type": "code",
   "execution_count": 22,
   "id": "de67caed",
   "metadata": {},
   "outputs": [
    {
     "name": "stdout",
     "output_type": "stream",
     "text": [
      "['adil', 'arshad', 'khan', 'arshad']\n"
     ]
    }
   ],
   "source": [
    "print(students)"
   ]
  }
 ],
 "metadata": {
  "kernelspec": {
   "display_name": "Python 3 (ipykernel)",
   "language": "python",
   "name": "python3"
  },
  "language_info": {
   "codemirror_mode": {
    "name": "ipython",
    "version": 3
   },
   "file_extension": ".py",
   "mimetype": "text/x-python",
   "name": "python",
   "nbconvert_exporter": "python",
   "pygments_lexer": "ipython3",
   "version": "3.9.12"
  }
 },
 "nbformat": 4,
 "nbformat_minor": 5
}
